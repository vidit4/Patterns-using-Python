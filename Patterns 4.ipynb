{
 "cells": [
  {
   "cell_type": "raw",
   "id": "193e11ba",
   "metadata": {},
   "source": [
    "****\n",
    "***\n",
    "**\n",
    "*"
   ]
  },
  {
   "cell_type": "code",
   "execution_count": 1,
   "id": "355318da",
   "metadata": {},
   "outputs": [
    {
     "name": "stdout",
     "output_type": "stream",
     "text": [
      "4\n",
      "****\n",
      "***\n",
      "**\n",
      "*\n"
     ]
    }
   ],
   "source": [
    "n = int(input())\n",
    "i = 1\n",
    "while i <= n:\n",
    "    j = 1\n",
    "    while j <= n - i + 1:\n",
    "        print('*', end = '')\n",
    "        j = j + 1\n",
    "    print()\n",
    "    i = i + 1"
   ]
  },
  {
   "cell_type": "markdown",
   "id": "e17a54c9",
   "metadata": {},
   "source": [
    "4444\n",
    "333\n",
    "22\n",
    "1"
   ]
  },
  {
   "cell_type": "code",
   "execution_count": 7,
   "id": "9214fc77",
   "metadata": {},
   "outputs": [
    {
     "name": "stdout",
     "output_type": "stream",
     "text": [
      "4\n",
      "4444\n",
      "333\n",
      "22\n",
      "1\n"
     ]
    }
   ],
   "source": [
    "n = int(input())\n",
    "i = 1\n",
    "while i <= n:\n",
    "    j = 1\n",
    "    while j <= n - i + 1:\n",
    "        print(n - i + 1, end = '')\n",
    "        j = j + 1\n",
    "    print()\n",
    "    i = i + 1"
   ]
  },
  {
   "cell_type": "raw",
   "id": "e632dc4f",
   "metadata": {},
   "source": [
    "   *\n",
    "  **\n",
    " ***\n",
    "****"
   ]
  },
  {
   "cell_type": "code",
   "execution_count": 1,
   "id": "ebc377df",
   "metadata": {},
   "outputs": [
    {
     "name": "stdout",
     "output_type": "stream",
     "text": [
      "4\n",
      "   *\n",
      "  **\n",
      " ***\n",
      "****\n"
     ]
    }
   ],
   "source": [
    "n = int(input())\n",
    "i = 1\n",
    "while  i <= n:\n",
    "    space = 1\n",
    "    while space <= n - i:\n",
    "        print(' ', end = '')\n",
    "        space = space + 1\n",
    "    stars = 1\n",
    "    while stars <= i:\n",
    "        print('*', end = '')\n",
    "        stars = stars + 1\n",
    "    print()\n",
    "    i = i + 1"
   ]
  },
  {
   "cell_type": "raw",
   "id": "3906219d",
   "metadata": {},
   "source": [
    "   1\n",
    "  12\n",
    " 123\n",
    "1234"
   ]
  },
  {
   "cell_type": "code",
   "execution_count": 4,
   "id": "6bc474bd",
   "metadata": {},
   "outputs": [
    {
     "name": "stdout",
     "output_type": "stream",
     "text": [
      "4\n",
      "   1\n",
      "  12\n",
      " 123\n",
      "1234\n"
     ]
    }
   ],
   "source": [
    "n = int(input())\n",
    "i = 1\n",
    "while i <= n:\n",
    "    sp = 1\n",
    "    while sp <= n - i:\n",
    "        print(\" \", end = '')\n",
    "        sp = sp + 1\n",
    "    j = 1\n",
    "    while j <= i:\n",
    "        print(j, end = '')\n",
    "        j = j + 1\n",
    "    print()\n",
    "    i = i + 1"
   ]
  },
  {
   "cell_type": "code",
   "execution_count": 4,
   "id": "96db9466",
   "metadata": {},
   "outputs": [
    {
     "name": "stdout",
     "output_type": "stream",
     "text": [
      "5\n",
      "* \n",
      " * * \n",
      "  * * * \n",
      " * * \n",
      "* \n"
     ]
    }
   ],
   "source": [
    "n= int(input())\n",
    "n1 = (n+1)/2\n",
    "i=1\n",
    "while i <= n1:\n",
    "    s=1\n",
    "    while s <= (i-1):\n",
    "        print(' ',end='')\n",
    "        s = s + 1\n",
    "    sr = 1\n",
    "    while sr <= i:\n",
    "        print('* ',end='')\n",
    "        sr = sr + 1\n",
    "        \n",
    "    print()\n",
    "    i=i+1\n",
    "    \n",
    "n2 = n1 - 1 # bad start value\n",
    "i = n2\n",
    "while i >= 1:\n",
    "    s=1\n",
    "    while s <= i-1: # bad logic\n",
    "        print(' ',end='')\n",
    "        s=s+1\n",
    "    sr=1\n",
    "    while sr<=i: # bad logic\n",
    "        print('* ',end='')\n",
    "        sr=sr+1\n",
    "        \n",
    "    print()\n",
    "    i=i-1"
   ]
  }
 ],
 "metadata": {
  "kernelspec": {
   "display_name": "Python 3 (ipykernel)",
   "language": "python",
   "name": "python3"
  },
  "language_info": {
   "codemirror_mode": {
    "name": "ipython",
    "version": 3
   },
   "file_extension": ".py",
   "mimetype": "text/x-python",
   "name": "python",
   "nbconvert_exporter": "python",
   "pygments_lexer": "ipython3",
   "version": "3.9.7"
  }
 },
 "nbformat": 4,
 "nbformat_minor": 5
}
